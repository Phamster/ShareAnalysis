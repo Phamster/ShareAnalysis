{
 "cells": [
  {
   "cell_type": "code",
   "execution_count": null,
   "metadata": {},
   "outputs": [],
   "source": [
    "import simfin as sf\n",
    "\n",
    "# Set your SimFin+ API-key for downloading data.\n",
    "sf.set_api_key('MK6G4JQw6QnhL8Vf6292q81zGQSd0iPg')\n",
    "\n",
    "# Set the local directory where data-files are stored.\n",
    "# The directory will be created if it does not already exist.\n",
    "sf.set_data_dir('../simfin_data/')\n",
    "\n",
    "# Download the data from the SimFin server and load into a Pandas DataFrame.\n",
    "df = sf.load_shareprices(variant='daily', market='us')\n",
    "\n",
    "# Print the first rows of the data.\n",
    "print(df.head())"
   ]
  }
 ],
 "metadata": {
  "language_info": {
   "name": "python"
  },
  "orig_nbformat": 4
 },
 "nbformat": 4,
 "nbformat_minor": 2
}
